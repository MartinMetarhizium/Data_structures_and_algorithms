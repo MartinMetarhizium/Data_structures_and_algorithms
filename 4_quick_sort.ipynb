{
 "cells": [
  {
   "cell_type": "markdown",
   "metadata": {},
   "source": [
    "How it works:\n",
    "\n",
    "Choose a value in the array to be the pivot element.\n",
    "Order the rest of the array so that lower values than the pivot element are on the left, and higher values are on the right.\n",
    "Swap the pivot element with the first element of the higher values so that the pivot element lands in between the lower and higher values.\n",
    "Do the same operations (recursively) for the sub-arrays on the left and right side of the pivot element.\n",
    "\n",
    "Como funciona:\n",
    "\n",
    "1. Se elige un valor del array para funcionar de pivot\n",
    "2. Ordena el resto del array con los menores de un lado y los mayores del otro\n",
    "3. Swapear el pivot con el primer elemento de los valores mayores para que este pivot caiga entre los valores menores y mayores.\n",
    "4. Realizar esta operacion rescursivamente para los sub-arrays."
   ]
  },
  {
   "cell_type": "markdown",
   "metadata": {},
   "source": [
    "Para implementar el QuickSort se necesita:\n",
    "1. Un array\n",
    "2. un metodo quicksort que se llame recursivamente siempre que el len del sub-array sea mayor a 1\n",
    "3. un metodo partition que reciba el subarray, mueva los valores y swapee el elemento pivot dentro del subarray y devuelva el indice donde ocurre el siguiente split en los sub-arrays"
   ]
  },
  {
   "cell_type": "code",
   "execution_count": 5,
   "metadata": {},
   "outputs": [
    {
     "name": "stdout",
     "output_type": "stream",
     "text": [
      "valor de pivot 7\n",
      "[5, 34, 25, 12, 22, 11, 90, 64] 0 7\n",
      "primer llamado [5, 34, 25, 12, 22, 11, 90, 64] 0 -1\n",
      "[5, 34, 25, 12, 22, 11, 64, 90] 1 7\n",
      "[5, 11, 25, 12, 22, 34, 64, 90] 1 5\n",
      "primer llamado [5, 11, 25, 12, 22, 34, 64, 90] 1 0\n",
      "[5, 11, 25, 12, 22, 34, 64, 90] 2 5\n",
      "[5, 11, 12, 22, 25, 34, 64, 90] 2 4\n",
      "primer llamado [5, 11, 12, 22, 25, 34, 64, 90] 2 2\n",
      "segundo llamado [5, 11, 12, 22, 25, 34, 64, 90] 4 4\n",
      "primer llamado [5, 11, 12, 22, 25, 34, 64, 90] 2 4\n",
      "segundo llamado [5, 11, 12, 22, 25, 34, 64, 90] 6 5\n",
      "segundo llamado [5, 11, 12, 22, 25, 34, 64, 90] 2 5\n",
      "primer llamado [5, 11, 12, 22, 25, 34, 64, 90] 1 5\n",
      "segundo llamado [5, 11, 12, 22, 25, 34, 64, 90] 7 7\n",
      "segundo llamado [5, 11, 12, 22, 25, 34, 64, 90] 1 7\n",
      "Sorted array: [5, 11, 12, 22, 25, 34, 64, 90]\n"
     ]
    }
   ],
   "source": [
    "def partition(array, low, high):\n",
    "    \"\"\"\n",
    "    Metodo de particion: Toma una variable pivot y le asigna un valor\n",
    "     del array. a la variable i se le asigna el valor de low -1\n",
    "\n",
    "     El loop va entre el rango de low y high y si el elemento j\n",
    "     del array es menor o igual que pivot se le suma 1 a i.\n",
    "     Despues se swapea el indice i con el j y el j con el i\n",
    "\n",
    "     Ademas al valor i+1 se swapea con el valor de high y el de high\n",
    "     con i+1.\n",
    "    \"\"\"\n",
    "    pivot = array[high]\n",
    "    i = low - 1\n",
    "\n",
    "    for j in range(low, high):\n",
    "        if array[j] <= pivot:\n",
    "            i += 1\n",
    "            array[i], array[j] = array[j], array[i]\n",
    "\n",
    "    array[i+1], array[high] = array[high], array[i+1]\n",
    "    return i+1\n",
    "\n",
    "def quicksort(array, low=0, high=None):\n",
    "    \"\"\"\n",
    "    Se inicializa high como nulo y se le da un valor de len(array) \n",
    "    -1. Si low es menor que high se llama al metodo partition y se \n",
    "    le pasan los valores del array hasta entonces con low y high ya \n",
    "    asignados. Esto se guarda en pivot index y se llama recursivamente\n",
    "    a quicksort.\n",
    "    \"\"\"\n",
    "    if high is None:\n",
    "        high = len(array) - 1\n",
    "        print(\"valor de pivot\", high)\n",
    "\n",
    "    if low < high:\n",
    "        pivot_index = partition(array, low, high)\n",
    "        print(array, low, high)\n",
    "        quicksort(array, low, pivot_index-1)\n",
    "        print(\"primer llamado\",array, low, pivot_index-1)\n",
    "        quicksort(array, pivot_index+1, high)\n",
    "        print(\"segundo llamado\", array, pivot_index+1, high)\n",
    "\n",
    "my_array = [64, 34, 25, 12, 22, 11, 90, 5]\n",
    "quicksort(my_array)\n",
    "print(\"Sorted array:\", my_array)"
   ]
  },
  {
   "cell_type": "markdown",
   "metadata": {},
   "source": [
    "Tiempo promedio O(n log n)\n",
    " "
   ]
  }
 ],
 "metadata": {
  "kernelspec": {
   "display_name": "Python 3",
   "language": "python",
   "name": "python3"
  },
  "language_info": {
   "codemirror_mode": {
    "name": "ipython",
    "version": 3
   },
   "file_extension": ".py",
   "mimetype": "text/x-python",
   "name": "python",
   "nbconvert_exporter": "python",
   "pygments_lexer": "ipython3",
   "version": "3.12.3"
  }
 },
 "nbformat": 4,
 "nbformat_minor": 2
}
