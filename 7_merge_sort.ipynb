{
 "cells": [
  {
   "cell_type": "markdown",
   "metadata": {},
   "source": [
    "Como funciona:\n",
    "1. Divide el array desordenado en dos subarrays de la mitad del tamaño del original.\n",
    "2. Continua dividiendo siempre y cuando la pieza del array tenga mas de un elemento\n",
    "3. Combina los dos sub array de 1 poniendo el valor mas pequeño primero.\n",
    "4. Sigue combinando hasta que no queden sub arrays.\n"
   ]
  },
  {
   "cell_type": "markdown",
   "metadata": {},
   "source": [
    "Implementacion:\n",
    "\n",
    "1. Una función que toma el array lo divide en 2 y se vuelve a llamar para cada porcion del array hasta que estas porciones del array solo consisten de un valor.\n",
    "2. Otra funcion que mergea los sub-arrays ordenados.\n",
    "\n"
   ]
  },
  {
   "cell_type": "code",
   "execution_count": 1,
   "metadata": {},
   "outputs": [
    {
     "name": "stdout",
     "output_type": "stream",
     "text": [
      "Sorted array: [-13, -10, 3, 6, 7, 15, 23.5, 55]\n"
     ]
    }
   ],
   "source": [
    "def mergeSort(arr):\n",
    "    if len(arr) <= 1:\n",
    "        return arr\n",
    "    #rompe el loop cuando el array es menor a 1 unidad\n",
    "\n",
    "    mid = len(arr) // 2\n",
    "    \n",
    "    leftHalf = arr[:mid]\n",
    "    rightHalf = arr[mid:]\n",
    "    #divide en dos partes el array\n",
    "    \n",
    "    sortedLeft = mergeSort(leftHalf)\n",
    "    sortedRight = mergeSort(rightHalf)\n",
    "\n",
    "    return merge(sortedLeft, sortedRight)\n",
    "\n",
    "def merge(left, right):\n",
    "    result = []\n",
    "    i = j = 0\n",
    "\n",
    "    while i < len(left) and j < len(right):\n",
    "        if left[i] < right[j]:\n",
    "            result.append(left[i])\n",
    "            i += 1\n",
    "        else:\n",
    "            result.append(right[j])\n",
    "            j += 1\n",
    "\n",
    "    result.extend(left[i:])\n",
    "    result.extend(right[j:])\n",
    "\n",
    "    return result\n",
    "\n",
    "unsortedArr = [3, 7, 6, -10, 15, 23.5, 55, -13]\n",
    "sortedArr = mergeSort(unsortedArr)\n",
    "print(\"Sorted array:\", sortedArr)"
   ]
  },
  {
   "cell_type": "markdown",
   "metadata": {},
   "source": [
    "Complejidad temporal O (n log n)"
   ]
  }
 ],
 "metadata": {
  "kernelspec": {
   "display_name": "Python 3",
   "language": "python",
   "name": "python3"
  },
  "language_info": {
   "codemirror_mode": {
    "name": "ipython",
    "version": 3
   },
   "file_extension": ".py",
   "mimetype": "text/x-python",
   "name": "python",
   "nbconvert_exporter": "python",
   "pygments_lexer": "ipython3",
   "version": "3.12.3"
  }
 },
 "nbformat": 4,
 "nbformat_minor": 2
}
