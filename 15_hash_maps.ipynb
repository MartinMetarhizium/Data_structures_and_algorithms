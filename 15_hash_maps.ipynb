{
 "cells": [
  {
   "cell_type": "markdown",
   "metadata": {},
   "source": [
    "Hash Maps\n",
    "\n",
    "Un hash map es similar a un hash set. La diferencia radica en la hash map key que es la clave de almacenamiento de los valores y el hash map value que es el valor que queremos ver.\n",
    "\n",
    "La unica diferencia es que tambien se guarda esta hash map key que es la que tambien da el valor del indice a guardar."
   ]
  },
  {
   "cell_type": "code",
   "execution_count": 1,
   "metadata": {},
   "outputs": [
    {
     "name": "stdout",
     "output_type": "stream",
     "text": [
      "Hash Map Contents:\n",
      "Bucket 0: [('123-4569', 'Jens')]\n",
      "Bucket 1: []\n",
      "Bucket 2: [('123-4570', 'Peter')]\n",
      "Bucket 3: [('123-4571', 'Lisa')]\n",
      "Bucket 4: []\n",
      "Bucket 5: [('123-4672', 'Adele'), ('123-4573', 'Michaela')]\n",
      "Bucket 6: []\n",
      "Bucket 7: []\n",
      "Bucket 8: [('123-4567', 'Charlotte'), ('123-6574', 'Bob')]\n",
      "Bucket 9: [('123-4568', 'Thomas')]\n",
      "\n",
      "Name associated with '123-4570': Peter\n",
      "Updating the name for '123-4570' to 'James'\n",
      "Name associated with '123-4570': James\n"
     ]
    }
   ],
   "source": [
    "class SimpleHashMap:\n",
    "    def __init__(self, size=100):\n",
    "        self.size = size\n",
    "        self.buckets = [[] for _ in range(size)]  # A list of buckets, each is a list (to handle collisions)\n",
    "\n",
    "    def hash_function(self, key):\n",
    "        # Sum only the numerical values of the key, ignoring non-numeric characters\n",
    "        numeric_sum = sum(int(char) for char in key if char.isdigit())\n",
    "        return numeric_sum % 10  # Perform modulo 10 on the sum\n",
    "\n",
    "    def put(self, key, value):\n",
    "        # Add or update a key-value pair\n",
    "        index = self.hash_function(key)\n",
    "        bucket = self.buckets[index]\n",
    "        for i, (k, v) in enumerate(bucket):\n",
    "            if k == key:\n",
    "                bucket[i] = (key, value)  # Update existing key\n",
    "                return\n",
    "        bucket.append((key, value))  # Add new key-value pair if not found\n",
    "\n",
    "    def get(self, key):\n",
    "        # Retrieve a value by key\n",
    "        index = self.hash_function(key)\n",
    "        bucket = self.buckets[index]\n",
    "        for k, v in bucket:\n",
    "            if k == key:\n",
    "                return v\n",
    "        return None  # Key not found\n",
    "\n",
    "    def remove(self, key):\n",
    "        # Remove a key-value pair\n",
    "        index = self.hash_function(key)\n",
    "        bucket = self.buckets[index]\n",
    "        for i, (k, v) in enumerate(bucket):\n",
    "            if k == key:\n",
    "                del bucket[i]  # Remove the key-value pair\n",
    "                return\n",
    "\n",
    "    def print_map(self):\n",
    "        # Print all key-value pairs in the hash map\n",
    "        print(\"Hash Map Contents:\")\n",
    "        for index, bucket in enumerate(self.buckets):\n",
    "            print(f\"Bucket {index}: {bucket}\")\n",
    "\n",
    "# Creating the Hash Map from the simulation\n",
    "hash_map = SimpleHashMap(size=10)\n",
    "\n",
    "# Adding some entries\n",
    "hash_map.put(\"123-4567\", \"Charlotte\")\n",
    "hash_map.put(\"123-4568\", \"Thomas\")\n",
    "hash_map.put(\"123-4569\", \"Jens\")\n",
    "hash_map.put(\"123-4570\", \"Peter\")\n",
    "hash_map.put(\"123-4571\", \"Lisa\")\n",
    "hash_map.put(\"123-4672\", \"Adele\")\n",
    "hash_map.put(\"123-4573\", \"Michaela\")\n",
    "hash_map.put(\"123-6574\", \"Bob\")\n",
    "\n",
    "hash_map.print_map()\n",
    "\n",
    "# Demonstrating retrieval\n",
    "print(\"\\nName associated with '123-4570':\", hash_map.get(\"123-4570\"))\n",
    "\n",
    "print(\"Updating the name for '123-4570' to 'James'\")\n",
    "hash_map.put(\"123-4570\",\"James\")\n",
    "\n",
    "# Checking if Peter is still there\n",
    "print(\"Name associated with '123-4570':\", hash_map.get(\"123-4570\"))"
   ]
  }
 ],
 "metadata": {
  "kernelspec": {
   "display_name": "Python 3",
   "language": "python",
   "name": "python3"
  },
  "language_info": {
   "codemirror_mode": {
    "name": "ipython",
    "version": 3
   },
   "file_extension": ".py",
   "mimetype": "text/x-python",
   "name": "python",
   "nbconvert_exporter": "python",
   "pygments_lexer": "ipython3",
   "version": "3.12.3"
  }
 },
 "nbformat": 4,
 "nbformat_minor": 2
}
