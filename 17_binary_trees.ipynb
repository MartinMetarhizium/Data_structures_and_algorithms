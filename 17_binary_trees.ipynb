{
 "cells": [
  {
   "cell_type": "markdown",
   "metadata": {},
   "source": [
    "Binary Trees\n",
    "\n",
    "El Binary Tree es un tipo de estructura de datos donde cada nodo tiene un maximo de dos childs. Esto nos da estos beneficios:\n",
    "\n",
    "1. Algoritmos de busqueda, insercion, delecion y traversing son faciles de implementar.\n",
    "2. Se pueden representar como arrays, lo que los hace más eficientes.\n"
   ]
  },
  {
   "cell_type": "markdown",
   "metadata": {},
   "source": [
    "Binary Trees vs Arrays and Linked Lists\n",
    "\n",
    "Benefits of Binary Trees over Arrays and Linked Lists:\n",
    "\n",
    "Los arrays son rapidos cuando se quiere acceder a un elemento directamente. Insertar o eliminar elementos requiere el shifteo en memoria de otros elementos para hacer lugar a ese movimiento realizado.\n",
    "\n",
    "Las linked lists son rapidas para insertar o eliminar nodos pero para acceder a un elemento se necesita atravesar toda la lista.\n",
    "\n",
    "Los binary trees permiten hacer ambas cosas de una manera rapida (agregar o eliminar y acceder).\n",
    "\n",
    "Implementacion basica:"
   ]
  },
  {
   "cell_type": "code",
   "execution_count": 1,
   "metadata": {},
   "outputs": [
    {
     "name": "stdout",
     "output_type": "stream",
     "text": [
      "root.right.left.data: E\n"
     ]
    }
   ],
   "source": [
    "class TreeNode:\n",
    "    def __init__(self, data):\n",
    "        self.data = data\n",
    "        self.left = None\n",
    "        self.right = None\n",
    "\n",
    "root = TreeNode('R')\n",
    "nodeA = TreeNode('A')\n",
    "nodeB = TreeNode('B')\n",
    "nodeC = TreeNode('C')\n",
    "nodeD = TreeNode('D')\n",
    "nodeE = TreeNode('E')\n",
    "nodeF = TreeNode('F')\n",
    "nodeG = TreeNode('G')\n",
    "\n",
    "root.left = nodeA\n",
    "root.right = nodeB\n",
    "\n",
    "nodeA.left = nodeC\n",
    "nodeA.right = nodeD\n",
    "\n",
    "nodeB.left = nodeE\n",
    "nodeB.right = nodeF\n",
    "\n",
    "nodeF.left = nodeG\n",
    "\n",
    "# Test\n",
    "print(\"root.right.left.data:\", root.right.left.data)"
   ]
  },
  {
   "cell_type": "markdown",
   "metadata": {},
   "source": [
    "Binary Tree Traversal\n",
    "\n",
    "Para atravesar un arbol se pueden elegir dos caminos:\n",
    "\n",
    "\n",
    "1. Breadth First Search (BFS) donde cada nodo del mismo nivel es visitado antes de seguir al siguiente nivel.\n",
    "\n",
    "2. Depth First Search (DFS) cuando se profundiza hasta las leaf nodes para luego expandir horizontalmente.\n",
    "\n",
    "Tenemos aqui distintos tipos de DFS traversals:\n",
    "\n",
    "1. pre-order\n",
    "2. in-order\n",
    "3. post-order"
   ]
  },
  {
   "cell_type": "markdown",
   "metadata": {},
   "source": [
    "El pre-order se realiza visitando primero la root del primer nodo y seguir recursivamente por el sub-tree izquierdo seguido por un recursive search en el sub-tree derecho."
   ]
  },
  {
   "cell_type": "code",
   "execution_count": null,
   "metadata": {},
   "outputs": [],
   "source": [
    "def preOrderTraversal(node):\n",
    "    if node is None:\n",
    "        return\n",
    "    print(node.data, end=\", \")\n",
    "    preOrderTraversal(node.left)\n",
    "    preOrderTraversal(node.right)"
   ]
  },
  {
   "cell_type": "markdown",
   "metadata": {},
   "source": [
    "El metodo in-order realiza un recursive del left subtree y posteriormente del right subtree devolviendo los valores en orden ascendente"
   ]
  },
  {
   "cell_type": "code",
   "execution_count": 2,
   "metadata": {},
   "outputs": [],
   "source": [
    "def inOrderTraversal(node):\n",
    "    if node is None:\n",
    "        return\n",
    "    inOrderTraversal(node.left)\n",
    "    print(node.data, end=\", \")\n",
    "    # se imprime antes de ir a la derecha pero luego de haber recorrido el lado izquierdo\n",
    "    inOrderTraversal(node.right)"
   ]
  },
  {
   "cell_type": "markdown",
   "metadata": {},
   "source": [
    "Post-order Traversal trabaja recursivamente en el left subtree y right subtree, seguido de una visita al root node. Es usado para eliminar un tree, post-fix notation of an expression tree, etc.\n",
    "\n",
    "La visita a un nodo es realizada despues de que el child node left y right se llamen recursivamente.\n",
    "\n",
    "Impementación:"
   ]
  },
  {
   "cell_type": "code",
   "execution_count": null,
   "metadata": {},
   "outputs": [],
   "source": [
    "def postOrderTraversal(node):\n",
    "    if node is None:\n",
    "        return\n",
    "    postOrderTraversal(node.left)\n",
    "    postOrderTraversal(node.right)\n",
    "    print(node.data, end=\", \")"
   ]
  }
 ],
 "metadata": {
  "kernelspec": {
   "display_name": "Python 3",
   "language": "python",
   "name": "python3"
  },
  "language_info": {
   "codemirror_mode": {
    "name": "ipython",
    "version": 3
   },
   "file_extension": ".py",
   "mimetype": "text/x-python",
   "name": "python",
   "nbconvert_exporter": "python",
   "pygments_lexer": "ipython3",
   "version": "3.12.3"
  }
 },
 "nbformat": 4,
 "nbformat_minor": 2
}
