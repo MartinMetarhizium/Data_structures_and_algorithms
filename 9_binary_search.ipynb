{
 "cells": [
  {
   "cell_type": "markdown",
   "metadata": {},
   "source": [
    "Como funciona:\n",
    "\n",
    "1. Se parte de un array ordenado\n",
    "2. Se ve el valor central del array.\n",
    "3. Si el valor target es menor, se busca a la izquierda si no se busca a la derecha.\n",
    "4. Se repite hasta llegar al valor\n",
    "5. Si se encuentra devuelve el indice, si no -1."
   ]
  },
  {
   "cell_type": "code",
   "execution_count": 13,
   "metadata": {},
   "outputs": [
    {
     "name": "stdout",
     "output_type": "stream",
     "text": [
      "Punto medio 4\n",
      "me muevo a la derecha valor de left: 5 valor de right 9 \n",
      "Punto medio 7\n",
      "me muevo a la izquierda valor de right: 6 valor de left: 5 \n",
      "Punto medio 5\n",
      "me muevo a la derecha valor de left: 6 valor de right 6 \n",
      "Punto medio 6\n",
      "Value 13 found at index 6\n"
     ]
    }
   ],
   "source": [
    "def binarySearch(arr, targetVal):\n",
    "    left = 0\n",
    "    right = len(arr) - 1\n",
    "\n",
    "    #Se inicializa left como 0 y right como la cantidad de elementos de arr -1 Para marcar el ultimo indice.\n",
    "    while left <= right:\n",
    "        #Mientras que left sea menor o igual que right\n",
    "        mid = (left + right) // 2\n",
    "        print(f\"Punto medio {mid}\")\n",
    "        #se asigna el valor mid como el redondeo de left +right dividido 2\n",
    "        if arr[mid] == targetVal:\n",
    "            return mid\n",
    "        # si se llega al valor se cierra el while\n",
    "        \n",
    "        if arr[mid] < targetVal:\n",
    "            left = mid + 1\n",
    "            print(f\"me muevo a la derecha valor de left: {left} valor de right {right} \")\n",
    "        # si el valor del array del indice mid es menor que targetVal se le suma uno al valor left (indice)\n",
    "        else:\n",
    "            right = mid - 1\n",
    "            print(f\"me muevo a la izquierda valor de right: {right} valor de left: {left} \")\n",
    "        # si el valor del array del indice mid es mayor que targetVal se le suma uno al valor right (indice)\n",
    "\n",
    "    return -1\n",
    "\n",
    "myArray = [1, 3, 5, 7, 9, 11, 13, 15, 17, 19]\n",
    "myTarget = 13\n",
    "\n",
    "result = binarySearch(myArray, myTarget)\n",
    "\n",
    "if result != -1:\n",
    "    print(\"Value\",myTarget,\"found at index\", result)\n",
    "else:\n",
    "    print(\"Target not found in array.\")"
   ]
  },
  {
   "cell_type": "markdown",
   "metadata": {},
   "source": [
    "Este es el algoritmo más rapido, complejidad temporal O (log2 n)"
   ]
  }
 ],
 "metadata": {
  "kernelspec": {
   "display_name": "Python 3",
   "language": "python",
   "name": "python3"
  },
  "language_info": {
   "codemirror_mode": {
    "name": "ipython",
    "version": 3
   },
   "file_extension": ".py",
   "mimetype": "text/x-python",
   "name": "python",
   "nbconvert_exporter": "python",
   "pygments_lexer": "ipython3",
   "version": "3.12.3"
  }
 },
 "nbformat": 4,
 "nbformat_minor": 2
}
