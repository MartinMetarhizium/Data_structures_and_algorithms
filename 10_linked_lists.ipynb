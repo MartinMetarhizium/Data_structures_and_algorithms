{
 "cells": [
  {
   "cell_type": "markdown",
   "metadata": {},
   "source": [
    "A diferencia de los arrays, los nodos en una linked list no se ubican uno despues del otro en memoria. Esto significa que al insertar o remover un nodo, no es necesario shiftear al resto.\n",
    "\n",
    "Algo no tan bueno de las linked list es que no se puede acceder directamente a un nodo como en un array: myArray[5]. Para hacerlo tenemos que arrancar por el head del primer nodo y atravesar los demás nodos hasta llegar al numero 5."
   ]
  },
  {
   "cell_type": "code",
   "execution_count": 12,
   "metadata": {},
   "outputs": [
    {
     "name": "stdout",
     "output_type": "stream",
     "text": [
      "3 -> 5 -> 130 -> 2 -> null\n"
     ]
    }
   ],
   "source": [
    "class Node:\n",
    "    def __init__(self, data):\n",
    "        #se inicializa una clase nodo con la variable data y el next vacío.\n",
    "        self.data = data\n",
    "        self.next = None\n",
    "    \n",
    "node1 = Node(3)\n",
    "node2 = Node(5)\n",
    "node3 = Node(130)\n",
    "node4 = Node(2)\n",
    "\n",
    "node1.next = node2\n",
    "node2.next = node3\n",
    "node3.next = node4\n",
    "\n",
    "currentNode = node1\n",
    "while currentNode:\n",
    "    print(currentNode.data, end=\" -> \")\n",
    "    currentNode = currentNode.next\n",
    "print(\"null\")"
   ]
  },
  {
   "cell_type": "markdown",
   "metadata": {},
   "source": [
    "Tambien se pueden desarrollar linked lists con una variable prev para ir hacia atras."
   ]
  },
  {
   "cell_type": "code",
   "execution_count": 1,
   "metadata": {},
   "outputs": [
    {
     "name": "stdout",
     "output_type": "stream",
     "text": [
      "\n",
      "Traversing forward:\n",
      "3 -> 5 -> 13 -> 2 -> null\n",
      "\n",
      "Traversing backward:\n",
      "2 -> 13 -> 5 -> 3 -> null\n"
     ]
    }
   ],
   "source": [
    "class Node:\n",
    "    def __init__(self, data):\n",
    "        self.data = data\n",
    "        self.next = None\n",
    "        self.prev = None\n",
    "    \n",
    "node1 = Node(3)\n",
    "node2 = Node(5)\n",
    "node3 = Node(13)\n",
    "node4 = Node(2)\n",
    "\n",
    "node1.next = node2\n",
    "\n",
    "node2.prev = node1\n",
    "node2.next = node3\n",
    "\n",
    "node3.prev = node2\n",
    "node3.next = node4\n",
    "\n",
    "node4.prev = node3\n",
    "\n",
    "print(\"\\nTraversing forward:\")\n",
    "currentNode = node1\n",
    "while currentNode:\n",
    "    print(currentNode.data, end=\" -> \")\n",
    "    currentNode = currentNode.next\n",
    "print(\"null\")\n",
    "\n",
    "print(\"\\nTraversing backward:\")\n",
    "currentNode = node4\n",
    "while currentNode:\n",
    "    print(currentNode.data, end=\" -> \")\n",
    "    currentNode = currentNode.prev\n",
    "print(\"null\")"
   ]
  },
  {
   "cell_type": "markdown",
   "metadata": {},
   "source": [
    "Tambien se puede hacer algo similar pero que vuelva directamente al principio"
   ]
  },
  {
   "cell_type": "code",
   "execution_count": 3,
   "metadata": {},
   "outputs": [
    {
     "name": "stdout",
     "output_type": "stream",
     "text": [
      "3 -> 5 -> 13 -> 2 -> 3 -> 5 -> 13 -> ...\n"
     ]
    }
   ],
   "source": [
    "class Node:\n",
    "    def __init__(self, data):\n",
    "        self.data = data\n",
    "        self.next = None\n",
    "    \n",
    "node1 = Node(3)\n",
    "node2 = Node(5)\n",
    "node3 = Node(13)\n",
    "node4 = Node(2)\n",
    "\n",
    "node1.next = node2\n",
    "node2.next = node3\n",
    "node3.next = node4\n",
    "node4.next = node1\n",
    "\n",
    "currentNode = node1\n",
    "startNode = node1\n",
    "print(currentNode.data, end=\" -> \") \n",
    "currentNode = currentNode.next \n",
    "step=0\n",
    "# while currentNode != startNode:\n",
    "#     print(currentNode.data, end=\" -> \")\n",
    "#     currentNode = currentNode.next\n",
    "#     \n",
    "while step != 6:\n",
    "     print(currentNode.data, end=\" -> \")\n",
    "     currentNode = currentNode.next\n",
    "     step += 1\n",
    "\n",
    "\n",
    "print(\"...\")"
   ]
  },
  {
   "cell_type": "markdown",
   "metadata": {},
   "source": [
    "O una mezcla de ambas."
   ]
  },
  {
   "cell_type": "code",
   "execution_count": 4,
   "metadata": {},
   "outputs": [
    {
     "name": "stdout",
     "output_type": "stream",
     "text": [
      "\n",
      "Traversing forward:\n",
      "3 -> 5 -> 13 -> 2 -> ...\n",
      "\n",
      "Traversing backward:\n",
      "2 -> 13 -> 5 -> 3 -> ...\n"
     ]
    }
   ],
   "source": [
    "class Node:\n",
    "    def __init__(self, data):\n",
    "        self.data = data\n",
    "        self.next = None\n",
    "        self.prev = None\n",
    "\n",
    "node1 = Node(3)\n",
    "node2 = Node(5)\n",
    "node3 = Node(13)\n",
    "node4 = Node(2)\n",
    "\n",
    "node1.next = node2\n",
    "node1.prev = node4\n",
    "\n",
    "node2.prev = node1\n",
    "node2.next = node3\n",
    "\n",
    "node3.prev = node2\n",
    "node3.next = node4\n",
    "\n",
    "node4.prev = node3\n",
    "node4.next = node1\n",
    "\n",
    "print(\"\\nTraversing forward:\")\n",
    "currentNode = node1\n",
    "startNode = node1\n",
    "print(currentNode.data, end=\" -> \")\n",
    "currentNode = currentNode.next\n",
    "\n",
    "while currentNode != startNode:\n",
    "    print(currentNode.data, end=\" -> \")\n",
    "    currentNode = currentNode.next\n",
    "print(\"...\")\n",
    "\n",
    "print(\"\\nTraversing backward:\")\n",
    "currentNode = node4\n",
    "startNode = node4\n",
    "print(currentNode.data, end=\" -> \")\n",
    "currentNode = currentNode.prev\n",
    "\n",
    "while currentNode != startNode:\n",
    "    print(currentNode.data, end=\" -> \")\n",
    "    currentNode = currentNode.prev\n",
    "print(\"...\")"
   ]
  },
  {
   "cell_type": "markdown",
   "metadata": {},
   "source": [
    "Como puedo encontrar el menor valor entre todo los nodos en una simple linked list?"
   ]
  },
  {
   "cell_type": "code",
   "execution_count": 5,
   "metadata": {},
   "outputs": [
    {
     "name": "stdout",
     "output_type": "stream",
     "text": [
      "The lowest value in the linked list is: 2\n"
     ]
    }
   ],
   "source": [
    "class Node:\n",
    "    def __init__(self, data):\n",
    "        self.data = data\n",
    "        self.next = None\n",
    "\n",
    "def findLowestValue(head):\n",
    "    minValue = head.data\n",
    "    currentNode = head.next\n",
    "    while currentNode:\n",
    "        if currentNode.data < minValue:\n",
    "            minValue = currentNode.data\n",
    "        currentNode = currentNode.next\n",
    "    return minValue\n",
    "\n",
    "node1 = Node(7)\n",
    "node2 = Node(11)\n",
    "node3 = Node(3)\n",
    "node4 = Node(2)\n",
    "node5 = Node(9)\n",
    "\n",
    "node1.next = node2\n",
    "node2.next = node3\n",
    "node3.next = node4\n",
    "node4.next = node5\n",
    "\n",
    "print(\"The lowest value in the linked list is:\", findLowestValue(node1))"
   ]
  },
  {
   "cell_type": "markdown",
   "metadata": {},
   "source": [
    "Para elminar uno de los nodos es obligatorio eliminar el link para evitar problemas"
   ]
  },
  {
   "cell_type": "code",
   "execution_count": 6,
   "metadata": {},
   "outputs": [
    {
     "name": "stdout",
     "output_type": "stream",
     "text": [
      "Before deletion:\n",
      "7 -> 11 -> 3 -> 2 -> 9 -> null\n",
      "\n",
      "After deletion:\n",
      "7 -> 11 -> 3 -> 9 -> null\n"
     ]
    }
   ],
   "source": [
    "class Node:\n",
    "    def __init__(self, data):\n",
    "        self.data = data\n",
    "        self.next = None\n",
    "\n",
    "def traverseAndPrint(head):\n",
    "    currentNode = head\n",
    "    while currentNode:\n",
    "        print(currentNode.data, end=\" -> \")\n",
    "        currentNode = currentNode.next\n",
    "    print(\"null\")\n",
    "\n",
    "def deleteSpecificNode(head, nodeToDelete):\n",
    "    \"\"\"\n",
    "    En esta funcion se devuelve en el return el nuevo head de la linked list\n",
    "    Entonces, si elimino el primer nodo la nueva head va a ser el proximo nodo\n",
    "    \"\"\"\n",
    "    if head == nodeToDelete:\n",
    "        return head.next\n",
    "    currentNode = head\n",
    "    while currentNode.next and currentNode.next != nodeToDelete:\n",
    "        currentNode = currentNode.next\n",
    "    if currentNode.next is None:\n",
    "        return head\n",
    "\n",
    "    currentNode.next = currentNode.next.next\n",
    "\n",
    "    return head\n",
    "\n",
    "\n",
    "node1 = Node(7)\n",
    "node2 = Node(11)\n",
    "node3 = Node(3)\n",
    "node4 = Node(2)\n",
    "node5 = Node(9)\n",
    "\n",
    "node1.next = node2\n",
    "node2.next = node3\n",
    "node3.next = node4\n",
    "node4.next = node5\n",
    "\n",
    "print(\"Before deletion:\")\n",
    "traverseAndPrint(node1)\n",
    "\n",
    "# Delete node4\n",
    "node1 = deleteSpecificNode(node1, node4)\n",
    "\n",
    "print(\"\\nAfter deletion:\")\n",
    "traverseAndPrint(node1)"
   ]
  },
  {
   "cell_type": "markdown",
   "metadata": {},
   "source": [
    "Como insertar un nodo:\n",
    "1. Se crea el nuevo nodo\n",
    "2. El nodo anterior es conectado al nodo nuevo\n",
    "3. El nuevo nodo es linkeado al proximo"
   ]
  },
  {
   "cell_type": "code",
   "execution_count": 7,
   "metadata": {},
   "outputs": [
    {
     "name": "stdout",
     "output_type": "stream",
     "text": [
      "Original list:\n",
      "7 -> 3 -> 2 -> 9 -> null\n",
      "\n",
      "After insertion:\n",
      "7 -> 97 -> 3 -> 2 -> 9 -> null\n"
     ]
    }
   ],
   "source": [
    "class Node:\n",
    "    def __init__(self, data):\n",
    "        self.data = data\n",
    "        self.next = None\n",
    "\n",
    "def traverseAndPrint(head):\n",
    "    currentNode = head\n",
    "    while currentNode:\n",
    "        print(currentNode.data, end=\" -> \")\n",
    "        currentNode = currentNode.next\n",
    "    print(\"null\")\n",
    "\n",
    "def insertNodeAtPosition(head, newNode, position):\n",
    "    if position == 1:\n",
    "        newNode.next = head\n",
    "        return newNode\n",
    "    #situacion en la cual se inserta el nodo al principio\n",
    "    currentNode = head\n",
    "\n",
    "    for _ in range(position - 2):\n",
    "        if currentNode is None:\n",
    "            break\n",
    "        currentNode = currentNode.next\n",
    "    #for para las posiciones mayores a 2\n",
    "\n",
    "    newNode.next = currentNode.next\n",
    "    #se le asigna el next del current node al nuevo\n",
    "\n",
    "    currentNode.next = newNode\n",
    "    \n",
    "    return head\n",
    "\n",
    "node1 = Node(7)\n",
    "node2 = Node(3)\n",
    "node3 = Node(2)\n",
    "node4 = Node(9)\n",
    "\n",
    "node1.next = node2\n",
    "node2.next = node3\n",
    "node3.next = node4\n",
    "\n",
    "print(\"Original list:\")\n",
    "traverseAndPrint(node1)\n",
    "\n",
    "# Insert a new node with value 97 at position 2\n",
    "newNode = Node(97)\n",
    "node1 = insertNodeAtPosition(node1, newNode, 2)\n",
    "\n",
    "print(\"\\nAfter insertion:\")\n",
    "traverseAndPrint(node1)"
   ]
  }
 ],
 "metadata": {
  "kernelspec": {
   "display_name": "Python 3",
   "language": "python",
   "name": "python3"
  },
  "language_info": {
   "codemirror_mode": {
    "name": "ipython",
    "version": 3
   },
   "file_extension": ".py",
   "mimetype": "text/x-python",
   "name": "python",
   "nbconvert_exporter": "python",
   "pygments_lexer": "ipython3",
   "version": "3.12.3"
  }
 },
 "nbformat": 4,
 "nbformat_minor": 2
}
