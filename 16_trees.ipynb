{
 "cells": [
  {
   "cell_type": "markdown",
   "metadata": {},
   "source": [
    "Arboles:\n",
    "\n",
    "La estructura de datos de arboles es similar a las linked lists en las que un nodo se conecta con el siguiente. La diferencia es que los arboles pueden tener multiples elementos \"next\". Esto puede ser util para:\n",
    "\n",
    "1. Informacion jerarquica: archivos de sistema, modelos organizacionales.\n",
    "2. Bases de datos: Usados para encontrar informacion rapidamente.\n",
    "3. Routing Tables: usadas para informacion de routing en algoritmos de la red.\n",
    "4. Sorting o busquedas: Usados para buscar y ordenar informacion.\n",
    "5. Filas prioritarias. Las filas prioritarias generalmente se implementan con arboles."
   ]
  },
  {
   "cell_type": "markdown",
   "metadata": {},
   "source": [
    "Definiciones:\n",
    "\n",
    "1. El primer nodo en el arbol se llama root node.\n",
    "2. Un link entre un nodo y otro se llama edge\n",
    "3. Un parent o internal node tiene links con los child nodes.\n",
    "4. Un nodo puede tener 0, 1 o mas child nodes.\n",
    "5. Un nodo solo puede tener un parent node.\n",
    "6. Nodos sin links a child nodes se llaman leaf nodes.\n",
    "7. La height del arbol es el maximo numero de edges entre el leaf node y el node parent mas alto.\n",
    "8. El tree size es igual al numero de nodos en el arbol."
   ]
  },
  {
   "cell_type": "markdown",
   "metadata": {},
   "source": [
    "Tipos de arboles:\n",
    "\n",
    "1. Binary trees: Cada nodo tiene hasta dos children nodes.\n",
    "2. Binary search trees: Un tipo de binary tree donde para cada nodo su left child tiene un valor menor y el right child un valor mayor.\n",
    "3. AVL trees: Un tipo de binary search tree que se autobalancea para que para cada nodo, la diferencia en altura entre los subarboles de izquierda y derecha es como mucho 1. Este balance se mantiene mediante rotaciones cuando los nodos son insertados o eliminados."
   ]
  }
 ],
 "metadata": {
  "language_info": {
   "name": "python"
  }
 },
 "nbformat": 4,
 "nbformat_minor": 2
}
