{
 "cells": [
  {
   "cell_type": "markdown",
   "metadata": {},
   "source": [
    "Como funciona:\n",
    "\n",
    "1. Recorre todo el array buscando el minimo valor.\n",
    "2. Mueve el valor encontrado a la primera posicion.\n",
    "3. Recorre nuevamente el array por cada valor existente (con n valores por paso)"
   ]
  },
  {
   "cell_type": "code",
   "execution_count": 3,
   "metadata": {},
   "outputs": [
    {
     "name": "stdout",
     "output_type": "stream",
     "text": [
      "corrida 0 por el outer\n",
      "index del inner n: 1 \n",
      "index del inner n: 2 \n",
      "index del inner n: 3 \n",
      "index del inner n: 4 \n",
      "index del inner n: 5 \n",
      "index del inner n: 6 \n",
      "index del inner n: 7 \n",
      "5\n",
      "0 5\n",
      "corrida 1 por el outer\n",
      "index del inner n: 2 \n",
      "index del inner n: 3 \n",
      "index del inner n: 4 \n",
      "index del inner n: 5 \n",
      "index del inner n: 6 \n",
      "index del inner n: 7 \n",
      "11\n",
      "1 11\n",
      "corrida 2 por el outer\n",
      "index del inner n: 3 \n",
      "index del inner n: 4 \n",
      "index del inner n: 5 \n",
      "index del inner n: 6 \n",
      "index del inner n: 7 \n",
      "12\n",
      "2 12\n",
      "corrida 3 por el outer\n",
      "index del inner n: 4 \n",
      "index del inner n: 5 \n",
      "index del inner n: 6 \n",
      "index del inner n: 7 \n",
      "22\n",
      "3 22\n",
      "corrida 4 por el outer\n",
      "index del inner n: 5 \n",
      "index del inner n: 6 \n",
      "index del inner n: 7 \n",
      "25\n",
      "4 25\n",
      "corrida 5 por el outer\n",
      "index del inner n: 6 \n",
      "index del inner n: 7 \n",
      "34\n",
      "5 34\n",
      "corrida 6 por el outer\n",
      "index del inner n: 7 \n",
      "64\n",
      "6 64\n",
      "Sorted array: [5, 11, 12, 22, 25, 34, 64, 90]\n"
     ]
    }
   ],
   "source": [
    "my_array = [64, 34, 25, 5, 22, 11, 90, 12]\n",
    "\n",
    "#array a trabajar\n",
    "\n",
    "n = len(my_array)\n",
    "# cantidad de valores de my_array\n",
    "for i in range(n-1):\n",
    "    \"\"\"\n",
    "    El loop externo controla cuantas veces correra el loop interno (n-1)\n",
    "     \"\"\"\n",
    "    min_index = i\n",
    "    print(f\"corrida {i} por el outer\")\n",
    "    for j in range(i+1, n): # en el rango entre el ultimo elemento +1 y el final\n",
    "        \"\"\" \n",
    "        Encuentra el menor valor y lo trae al frente. Corre por un valor vez menos cada vez que corre\n",
    "        \"\"\"\n",
    "        if my_array[j] < my_array[min_index]:\n",
    "            min_index = j\n",
    "        print(f\"index del inner n: {j} \")\n",
    "\n",
    "    min_value = my_array.pop(min_index)\n",
    "    print(min_value)\n",
    "    my_array.insert(i, min_value)\n",
    "    print(i, min_value)\n",
    "\n",
    "print(\"Sorted array:\", my_array)"
   ]
  },
  {
   "cell_type": "markdown",
   "metadata": {},
   "source": [
    "Esto tiene un problema temporal. Cada corrida muevo dos veces los valores cuando hago el pop y otra con el insert.\n",
    "Para esto se puede implementar un swap entre el primer valor y el min valor."
   ]
  },
  {
   "cell_type": "code",
   "execution_count": 7,
   "metadata": {},
   "outputs": [
    {
     "name": "stdout",
     "output_type": "stream",
     "text": [
      "corrida 0 por el outer\n",
      "index del inner n: 1 \n",
      "index del inner n: 2 \n",
      "index del inner n: 3 \n",
      "index del inner n: 4 \n",
      "index del inner n: 5 \n",
      "index del inner n: 6 \n",
      "index del inner n: 7 \n",
      "Swapeando el valor 5 por 64. Array hasta aca [5, 34, 25, 64, 22, 11, 90, 12]\n",
      "corrida 1 por el outer\n",
      "index del inner n: 2 \n",
      "index del inner n: 3 \n",
      "index del inner n: 4 \n",
      "index del inner n: 5 \n",
      "index del inner n: 6 \n",
      "index del inner n: 7 \n",
      "Swapeando el valor 11 por 34. Array hasta aca [5, 11, 25, 64, 22, 34, 90, 12]\n",
      "corrida 2 por el outer\n",
      "index del inner n: 3 \n",
      "index del inner n: 4 \n",
      "index del inner n: 5 \n",
      "index del inner n: 6 \n",
      "index del inner n: 7 \n",
      "Swapeando el valor 12 por 25. Array hasta aca [5, 11, 12, 64, 22, 34, 90, 25]\n",
      "corrida 3 por el outer\n",
      "index del inner n: 4 \n",
      "index del inner n: 5 \n",
      "index del inner n: 6 \n",
      "index del inner n: 7 \n",
      "Swapeando el valor 22 por 64. Array hasta aca [5, 11, 12, 22, 64, 34, 90, 25]\n",
      "corrida 4 por el outer\n",
      "index del inner n: 5 \n",
      "index del inner n: 6 \n",
      "index del inner n: 7 \n",
      "Swapeando el valor 25 por 64. Array hasta aca [5, 11, 12, 22, 25, 34, 90, 64]\n",
      "corrida 5 por el outer\n",
      "index del inner n: 6 \n",
      "index del inner n: 7 \n",
      "Swapeando el valor 34 por 34. Array hasta aca [5, 11, 12, 22, 25, 34, 90, 64]\n",
      "corrida 6 por el outer\n",
      "index del inner n: 7 \n",
      "Swapeando el valor 64 por 90. Array hasta aca [5, 11, 12, 22, 25, 34, 64, 90]\n",
      "Sorted array: [5, 11, 12, 22, 25, 34, 64, 90]\n"
     ]
    }
   ],
   "source": [
    "my_array = [64, 34, 25, 5, 22, 11, 90, 12]\n",
    "\n",
    "#array a trabajar\n",
    "\n",
    "n = len(my_array)\n",
    "# cantidad de valores de my_array\n",
    "for i in range(n-1):\n",
    "    \"\"\"\n",
    "    El loop externo controla cuantas veces correra el loop interno (n-1)\n",
    "     \"\"\"\n",
    "    min_index = i\n",
    "    print(f\"corrida {i} por el outer\")\n",
    "    for j in range(i+1, n): # en el rango entre el ultimo elemento +1 y el final\n",
    "        \"\"\" \n",
    "        Encuentra el menor valor y lo trae al frente. Corre por un valor vez menos cada vez que corre\n",
    "        \"\"\"\n",
    "        if my_array[j] < my_array[min_index]:\n",
    "            min_index = j\n",
    "        print(f\"index del inner n: {j} \")\n",
    "\n",
    "    my_array[i], my_array[min_index] = my_array[min_index], my_array[i]\n",
    "    print(f\"Swapeando el valor {my_array[i]} por {my_array[min_index]}. Array hasta aca {my_array}\")\n",
    "\n",
    "print(\"Sorted array:\", my_array)"
   ]
  },
  {
   "cell_type": "markdown",
   "metadata": {},
   "source": [
    "De esta manera solo muevo los valores una vez. De todas formas, la complejidad temporal sigue siendo\n",
    "O(n**2)"
   ]
  }
 ],
 "metadata": {
  "kernelspec": {
   "display_name": "Python 3",
   "language": "python",
   "name": "python3"
  },
  "language_info": {
   "codemirror_mode": {
    "name": "ipython",
    "version": 3
   },
   "file_extension": ".py",
   "mimetype": "text/x-python",
   "name": "python",
   "nbconvert_exporter": "python",
   "pygments_lexer": "ipython3",
   "version": "3.12.3"
  }
 },
 "nbformat": 4,
 "nbformat_minor": 2
}
