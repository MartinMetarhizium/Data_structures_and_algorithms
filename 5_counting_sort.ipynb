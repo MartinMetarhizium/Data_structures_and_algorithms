{
 "cells": [
  {
   "cell_type": "markdown",
   "metadata": {},
   "source": [
    "Como funciona:\n",
    "\n",
    "1. Pasa por el array a sortear\n",
    "2. Para cada valor, lo cuenta al aumentar el counting array a su indice correspondiente\n",
    "3. Despues de contar los valores, pasa por el counting array para crear el sorted array\n",
    "4. Por cada count del counting array, crea el numero correcto de elementos con valores correspondientes al indice.\n"
   ]
  },
  {
   "cell_type": "markdown",
   "metadata": {},
   "source": [
    "Que se necesita:\n",
    "\n",
    "1. un metodo countigSort que recibe el array de integers\n",
    "2. Un array dentro del metodo para llevar la cuenta de los valores.\n",
    "3. Un loop dentro del metodo que cuenta y remueve valores incrementando elementos en el counting array.\n",
    "4. Un loop dentro del metodo que recrea el array usando el counting array.\n",
    "5. El counting array es igual al maximo valor del array +1\n"
   ]
  },
  {
   "cell_type": "code",
   "execution_count": 1,
   "metadata": {},
   "outputs": [
    {
     "name": "stdout",
     "output_type": "stream",
     "text": [
      "Sorted array: [1, 2, 2, 2, 3, 3, 3, 4, 5, 6, 6]\n"
     ]
    }
   ],
   "source": [
    "def countingSort(arr):\n",
    "    max_val = max(arr)\n",
    "    count = [0] * (max_val + 1)\n",
    "\n",
    "    while len(arr) > 0: # mientras que el len del array sea > 0 se popean valores y se suma al count array\n",
    "        num = arr.pop(0)\n",
    "        count[num] += 1\n",
    "\n",
    "    for i in range(len(count)): # loop que da el sorted array mientras que el elemento de count sea mayor a 0,\n",
    "        # es decir, cuando llega a 0 pasa al siguiente valor\n",
    "        while count[i] > 0:\n",
    "            arr.append(i)\n",
    "            count[i] -= 1\n",
    "\n",
    "    return arr\n",
    "\n",
    "unsortedArr = [4, 2, 2, 6, 3, 3, 1, 6, 5, 2, 3]\n",
    "sortedArr = countingSort(unsortedArr)\n",
    "print(\"Sorted array:\", sortedArr)"
   ]
  },
  {
   "cell_type": "markdown",
   "metadata": {},
   "source": [
    "Complejidad temporal para este algoritmo es igual a O (n + k)"
   ]
  }
 ],
 "metadata": {
  "kernelspec": {
   "display_name": "Python 3",
   "language": "python",
   "name": "python3"
  },
  "language_info": {
   "codemirror_mode": {
    "name": "ipython",
    "version": 3
   },
   "file_extension": ".py",
   "mimetype": "text/x-python",
   "name": "python",
   "nbconvert_exporter": "python",
   "pygments_lexer": "ipython3",
   "version": "3.12.3"
  }
 },
 "nbformat": 4,
 "nbformat_minor": 2
}
