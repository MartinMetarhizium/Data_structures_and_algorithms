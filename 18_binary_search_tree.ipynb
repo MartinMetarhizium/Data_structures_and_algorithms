{
 "cells": [
  {
   "cell_type": "markdown",
   "metadata": {},
   "source": [
    "Binary Search Tree es un arbol binadrio donde cada left child tiene un valor menor y cada right child tiene un valor mayor.\n",
    "Una clara ventaja de los Binary Search Trees es que las operaciones como buscar, eliminar e insertar se realizan rapido y sin cambios en memoria."
   ]
  },
  {
   "cell_type": "markdown",
   "metadata": {},
   "source": [
    "Deben cumplirse para estas estructuras:\n",
    "\n",
    "1. El nodo x left child y todos sus descendientes tienen valores menores que x.\n",
    "2. El right child y todos sus descendientes tienen valores mayores que x\n",
    "3. Los subtrees derecho e izquierdo deben ser tambien binary search tree.\n",
    "4. Esto facilitará todas las operaciones.\n"
   ]
  },
  {
   "cell_type": "markdown",
   "metadata": {},
   "source": [
    "El tamaño del arbol es igual al numero de nodos en el. Un subtree comienza con uno de los nodos en el arbol como local root y consiste de ese nodo y todos sus descendientes. Los descendientes de un nodo son todos child nodes de el.\n",
    "\n",
    "Como confirmo que lo que tengo en frente es un binary search tree ? Hago una busqueda in order y checkeo que el print me de una lista ascendiente.\n"
   ]
  },
  {
   "cell_type": "code",
   "execution_count": 1,
   "metadata": {},
   "outputs": [
    {
     "name": "stdout",
     "output_type": "stream",
     "text": [
      "3, 7, 8, 13, 14, 15, 18, 19, "
     ]
    }
   ],
   "source": [
    "class TreeNode:\n",
    "    def __init__(self, data):\n",
    "        self.data = data\n",
    "        self.left = None\n",
    "        self.right = None\n",
    "\n",
    "def inOrderTraversal(node):\n",
    "    if node is None:\n",
    "        return\n",
    "    inOrderTraversal(node.left)\n",
    "    print(node.data, end=\", \")\n",
    "    inOrderTraversal(node.right)\n",
    "\n",
    "root = TreeNode(13)\n",
    "node7 = TreeNode(7)\n",
    "node15 = TreeNode(15)\n",
    "node3 = TreeNode(3)\n",
    "node8 = TreeNode(8)\n",
    "node14 = TreeNode(14)\n",
    "node19 = TreeNode(19)\n",
    "node18 = TreeNode(18)\n",
    "\n",
    "root.left = node7\n",
    "root.right = node15\n",
    "\n",
    "node7.left = node3\n",
    "node7.right = node8\n",
    "\n",
    "node15.left = node14\n",
    "node15.right = node19\n",
    "\n",
    "node19.left = node18\n",
    "\n",
    "# Traverse\n",
    "inOrderTraversal(root)"
   ]
  },
  {
   "cell_type": "markdown",
   "metadata": {},
   "source": [
    "Como encontrar un valor en un BST\n",
    "\n",
    "Para hacerlo necesitamos:\n",
    "1. Comenzar en el root node.\n",
    "2. Si es el valor que buscamos devolverlo.\n",
    "3. Si el valor que buscamos es mayor ir al subtree derecho.\n",
    "4. De lo contrario, ir a la izquierda.\n",
    "5. Si el subtree no existe devolver None."
   ]
  },
  {
   "cell_type": "code",
   "execution_count": null,
   "metadata": {},
   "outputs": [],
   "source": [
    "def search(node, target):\n",
    "    if node is None:\n",
    "        return None \n",
    "    elif node.data == target:\n",
    "        return node\n",
    "    elif target < node.data:\n",
    "        return search(node.left, target)\n",
    "    else:\n",
    "        return search(node.right, target)"
   ]
  },
  {
   "cell_type": "markdown",
   "metadata": {},
   "source": [
    "Insert a Node in a BST\n",
    "\n",
    "Para insertar un nodo en un BST debo:\n",
    "\n",
    "1. Comenzar en el root node.\n",
    "2. Comparar cada nodo:\n",
    "3. El valor es menor: Ir a la izquierda. Else ir a la derecha\n",
    "4. Continuar comparando hasta que no haya nodos por ver ahi se inserta el nodo.\n",
    "\n",
    "Todos los nodos del BST son unicos asi que si encontramos un valor igual no hacemos nada.\n"
   ]
  },
  {
   "cell_type": "code",
   "execution_count": 1,
   "metadata": {},
   "outputs": [],
   "source": [
    "\n",
    "def insert(node, data):\n",
    "    if node is None:\n",
    "        return TreeNode(data)\n",
    "    else:\n",
    "        if data < node.data:\n",
    "            node.left = insert(node.left, data)\n",
    "        elif data > node.data:\n",
    "            node.right = insert(node.right, data)\n",
    "    return node"
   ]
  },
  {
   "cell_type": "markdown",
   "metadata": {},
   "source": [
    "Find The Lowest Value in a BST Subtree\n",
    "\n",
    "Esta es una pregunta tipica de una entrevista de trabajo. Como lo hago:\n",
    "\n",
    "1. Comienzo en el root\n",
    "2. Voy a la izquierda tanto como pueda\n",
    "3. Cuando me quede sin valores para bajar llegue al minimo.\n",
    "\n",
    "Bastante simple:"
   ]
  },
  {
   "cell_type": "code",
   "execution_count": 2,
   "metadata": {},
   "outputs": [],
   "source": [
    "\n",
    "def minValueNOde(node):\n",
    "    current = node\n",
    "    while current.left is not None:\n",
    "        current = current.left\n",
    "    return current "
   ]
  },
  {
   "cell_type": "markdown",
   "metadata": {},
   "source": [
    "Delete a Node in a BST\n",
    "\n",
    "Para eliminar un nodo en un BST debo: \n",
    "\n",
    "1. Si el node es un leaf node, elimino el link a el.\n",
    "2. Si el nodo tiene un child node, conecto el parent al child.\n",
    "3. Si el nodo tiene right y left child nodes debo primero encontrar el nodo sucesor in-order, cambiar valores con el y despues eliminarlo.\n"
   ]
  },
  {
   "cell_type": "code",
   "execution_count": null,
   "metadata": {},
   "outputs": [],
   "source": [
    "def minValueNode(node):\n",
    "    current = node\n",
    "    while current.left is not None:\n",
    "        current = current.left\n",
    "    return current\n",
    "\n",
    "def delete(node, data):\n",
    "    if not node:\n",
    "        return None\n",
    "    # si no existe no lo hago\n",
    "\n",
    "    if data < node.data:\n",
    "        node.left = delete(node.left, data)\n",
    "    elif data > node.data:\n",
    "        node.right = delete(node.right, data)\n",
    "    else:\n",
    "        # Node with only one child or no child\n",
    "        if not node.left:\n",
    "            temp = node.right\n",
    "            node = None\n",
    "            return temp\n",
    "        elif not node.right:\n",
    "            temp = node.left\n",
    "            node = None\n",
    "            return temp\n",
    "\n",
    "        # Node with two children, get the in-order successor\n",
    "        node.data = minValueNode(node.right).data\n",
    "        node.right = delete(node.right, node.data)\n",
    "\n",
    "    return node"
   ]
  }
 ],
 "metadata": {
  "kernelspec": {
   "display_name": "Python 3",
   "language": "python",
   "name": "python3"
  },
  "language_info": {
   "codemirror_mode": {
    "name": "ipython",
    "version": 3
   },
   "file_extension": ".py",
   "mimetype": "text/x-python",
   "name": "python",
   "nbconvert_exporter": "python",
   "pygments_lexer": "ipython3",
   "version": "3.12.3"
  }
 },
 "nbformat": 4,
 "nbformat_minor": 2
}
