{
 "cells": [
  {
   "cell_type": "markdown",
   "metadata": {},
   "source": [
    "Hash tables.\n",
    "\n",
    "Una hash table es una data structure diseñada para funcionar rapido. Se la prefiere por sobre los arrays o linked lists porque se puede agregar, eliminar o buscar informacion de manera rapida incluso con mucha informacion.\n",
    "\n",
    "En una linked list encontrar una persona \"Bob\" lleva tiempo porque vamos de un nodo a la vez chequeando si coincide con lo que buscamos. Mientras que en un array podría ser muy rapido si conocemos el indice. Pero, si solo conocemos el nombre lleva mucho tiempo. \n",
    "\n",
    "La hash table permite acceder directamente a ese nombre particular con una funcion hash."
   ]
  },
  {
   "cell_type": "markdown",
   "metadata": {},
   "source": [
    "Para comenzar vamos a suponer que tenemos una lista de 10 elementos. Cada uno de ellos se lo denominara bucket.\n"
   ]
  },
  {
   "cell_type": "code",
   "execution_count": 1,
   "metadata": {},
   "outputs": [],
   "source": [
    "my_hash_set = [None,None,None,None,None,None,None,None,None,None]"
   ]
  },
  {
   "cell_type": "markdown",
   "metadata": {},
   "source": [
    "Ahora vamos a interactuar con esta lista. Para eso se crea una hash function. En este caso se desarrolla una funcion para sumar el numero unicode de cada caracter y despues se hace un modulo 10 para tener un valor entre 0 y 9.\n"
   ]
  },
  {
   "cell_type": "code",
   "execution_count": 4,
   "metadata": {},
   "outputs": [
    {
     "name": "stdout",
     "output_type": "stream",
     "text": [
      "'Bob' has hash code: 5\n"
     ]
    }
   ],
   "source": [
    "def hash_function(value):\n",
    "    sum_of_chars = 0\n",
    "    for char in value:\n",
    "        sum_of_chars += ord(char)\n",
    "\n",
    "    return sum_of_chars % 10\n",
    "\n",
    "print(\"'Bob' has hash code:\",hash_function('Bob'))"
   ]
  },
  {
   "cell_type": "markdown",
   "metadata": {},
   "source": [
    "La \"B\" tiene un valor Unicode de 66, \"o\" de 111, y \"b\" de 98. Sumados nos da 275. Modulo 10 de 275 es 5, entonces \"Bob\" se almacena en el index 5.\n",
    "\n",
    "Entonces, yendo mas alla se puede usar esto para acceder directamente al indice de una palabra y chequear en la lista si existe un nombre. Vamos a eso:\n"
   ]
  },
  {
   "cell_type": "code",
   "execution_count": 5,
   "metadata": {},
   "outputs": [
    {
     "name": "stdout",
     "output_type": "stream",
     "text": [
      "'Pete' is in the Hash Set: True\n"
     ]
    }
   ],
   "source": [
    "my_hash_set = [None,'Jones',None,'Lisa',None,'Bob',None,'Siri','Pete',None]\n",
    "\n",
    "def hash_function(value):\n",
    "    sum_of_chars = 0\n",
    "    for char in value:\n",
    "        sum_of_chars += ord(char)\n",
    "\n",
    "    return sum_of_chars % 10\n",
    "    \n",
    "def contains(name):\n",
    "    index = hash_function(name)\n",
    "    return my_hash_set[index] == name\n",
    "\n",
    "print(\"'Pete' is in the Hash Set:\",contains('Pete'))"
   ]
  },
  {
   "cell_type": "markdown",
   "metadata": {},
   "source": [
    "Manejando colisiones.\n",
    "\n",
    "\"Stuart\" tendria un indice de 3 pero ya tengo un valor ahi que es el de Lisa. Si quisiese agregarlo colisionaria por lo que se realiza un chaining al implementar cada bucket como una linked list o array:"
   ]
  },
  {
   "cell_type": "code",
   "execution_count": 9,
   "metadata": {},
   "outputs": [
    {
     "name": "stdout",
     "output_type": "stream",
     "text": [
      "[[None], ['Jones'], [None], ['Lisa', 'Stuart'], [None], ['Bob'], [None], ['Siri'], ['Pete'], [None]]\n",
      "Contains Stuart: True\n"
     ]
    }
   ],
   "source": [
    "my_hash_set = [\n",
    "    [None],\n",
    "    ['Jones'],\n",
    "    [None],\n",
    "    ['Lisa'],\n",
    "    [None],\n",
    "    ['Bob'],\n",
    "    [None],\n",
    "    ['Siri'],\n",
    "    ['Pete'],\n",
    "    [None]\n",
    "]\n",
    "\n",
    "def hash_function(value):\n",
    "    return sum(ord(char) for char in value) % 10\n",
    "    \n",
    "def add(value):\n",
    "    index = hash_function(value)\n",
    "    bucket = my_hash_set[index]\n",
    "    if value not in bucket:\n",
    "        bucket.append(value)\n",
    "        \n",
    "def contains(value):\n",
    "    index = hash_function(value)\n",
    "    bucket = my_hash_set[index]\n",
    "    return value in bucket\n",
    "\n",
    "add('Stuart')\n",
    "\n",
    "print(my_hash_set)\n",
    "print('Contains Stuart:',contains('Stuart'))"
   ]
  }
 ],
 "metadata": {
  "kernelspec": {
   "display_name": "Python 3",
   "language": "python",
   "name": "python3"
  },
  "language_info": {
   "codemirror_mode": {
    "name": "ipython",
    "version": 3
   },
   "file_extension": ".py",
   "mimetype": "text/x-python",
   "name": "python",
   "nbconvert_exporter": "python",
   "pygments_lexer": "ipython3",
   "version": "3.12.3"
  }
 },
 "nbformat": 4,
 "nbformat_minor": 2
}
