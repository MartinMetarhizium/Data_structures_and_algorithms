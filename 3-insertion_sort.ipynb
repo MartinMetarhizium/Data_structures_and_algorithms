{
 "cells": [
  {
   "cell_type": "markdown",
   "metadata": {},
   "source": [
    "Como funciona:\n",
    "1. Toma el primer valor del array desordenado\n",
    "2. Mueve el valor al lugar correcto de la parte ordenada\n",
    "3. Repite"
   ]
  },
  {
   "cell_type": "code",
   "execution_count": 1,
   "metadata": {},
   "outputs": [
    {
     "name": "stdout",
     "output_type": "stream",
     "text": [
      "0 34\n",
      "0 25\n",
      "0 12\n",
      "1 22\n",
      "0 11\n",
      "6 90\n",
      "0 5\n",
      "Sorted array:  [5, 11, 12, 22, 25, 34, 64, 90]\n"
     ]
    }
   ],
   "source": [
    "my_array = [64, 34, 25, 12, 22, 11, 90, 5]\n",
    "\n",
    "n = len(my_array)\n",
    "for i in range(1,n):\n",
    "    #para cada elemento de 1 a n\n",
    "    insert_index= i\n",
    "    #indice de insercion igual al indice del elemento visto\n",
    "    current_value = my_array.pop(i)\n",
    "    #saco el primer elemento del array\n",
    "    for j in range(i-1, -1, -1):\n",
    "        #voy con un step de -1 hacia atras hasta encontrar un valor\n",
    "        #de my_array mayor que el valor que llevo\n",
    "        if my_array[j] > current_value:\n",
    "            insert_index = j\n",
    "            #lugar donde voy a poner mi numero\n",
    "    my_array.insert(insert_index, current_value)\n",
    "    print(insert_index, current_value)\n",
    "\n",
    "print(\"Sorted array: \", my_array)"
   ]
  },
  {
   "cell_type": "markdown",
   "metadata": {},
   "source": [
    "Al igual que a los demas, esto se puede mejorar para no tener que cambiar todos los indices todo el tiempo"
   ]
  },
  {
   "cell_type": "code",
   "execution_count": 2,
   "metadata": {},
   "outputs": [
    {
     "name": "stdout",
     "output_type": "stream",
     "text": [
      "Sorted array: [5, 11, 12, 22, 25, 34, 64, 90]\n"
     ]
    }
   ],
   "source": [
    "my_array = [64, 34, 25, 12, 22, 11, 90, 5]\n",
    "\n",
    "n = len(my_array)\n",
    "for i in range(1,n):\n",
    "    insert_index = i\n",
    "    current_value = my_array[i]\n",
    "    for j in range(i-1, -1, -1):\n",
    "        if my_array[j] > current_value:\n",
    "            my_array[j+1] = my_array[j]\n",
    "            insert_index = j\n",
    "        else:\n",
    "            break\n",
    "    my_array[insert_index] = current_value\n",
    "\n",
    "print(\"Sorted array:\", my_array)"
   ]
  },
  {
   "cell_type": "markdown",
   "metadata": {},
   "source": [
    "La complejidad temporal sigue siendo de O(n**2)"
   ]
  }
 ],
 "metadata": {
  "kernelspec": {
   "display_name": "Python 3",
   "language": "python",
   "name": "python3"
  },
  "language_info": {
   "codemirror_mode": {
    "name": "ipython",
    "version": 3
   },
   "file_extension": ".py",
   "mimetype": "text/x-python",
   "name": "python",
   "nbconvert_exporter": "python",
   "pygments_lexer": "ipython3",
   "version": "3.12.3"
  }
 },
 "nbformat": 4,
 "nbformat_minor": 2
}
