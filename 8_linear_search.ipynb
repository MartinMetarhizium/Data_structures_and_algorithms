{
 "cells": [
  {
   "cell_type": "markdown",
   "metadata": {},
   "source": [
    "Como funciona:\n",
    "\n",
    "1. Recorre todo el array.\n",
    "2. Compara cada valor para ver si es igual al valor buscado.\n",
    "3. Si se encuentra el valor devuelve el indice.\n",
    "4. Si no se encuentra devuelve -1 que indica que no se encontro"
   ]
  },
  {
   "cell_type": "code",
   "execution_count": null,
   "metadata": {},
   "outputs": [],
   "source": [
    "\n",
    "\n",
    "def linearSearch(arr, targetVal):\n",
    "    for i in range (len(arr)):\n",
    "        if arr[i] == targetVal:\n",
    "            return i\n",
    "    return -1\n",
    "\n",
    "arr = [3, 7, 2, 9, 5]\n",
    "targetVal = 9\n",
    "\n",
    "result = linearSearch(arr, targetVal)\n",
    "\n",
    "if result != -1:\n",
    "    print(\"Value\",targetVal,\"found at index\",result)\n",
    "else:\n",
    "    print(\"Value\",targetVal,\"not found\")"
   ]
  },
  {
   "cell_type": "markdown",
   "metadata": {},
   "source": [
    "Complejidad temporal O(n)"
   ]
  }
 ],
 "metadata": {
  "language_info": {
   "name": "python"
  }
 },
 "nbformat": 4,
 "nbformat_minor": 2
}
