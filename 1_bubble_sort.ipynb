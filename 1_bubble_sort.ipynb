{
 "cells": [
  {
   "cell_type": "markdown",
   "metadata": {},
   "source": [
    "Como funciona:\n",
    "\n",
    "1. Atraviesa un array un valor a la vez.\n",
    "2. Para cada valor, compara ese valor con el siguiente.\n",
    "3. Si el valor es mayor al siguiente, intercambia las posiciones de los mismos.\n",
    "4. Atraviesa el array tantas veces como cantidad de valores del array."
   ]
  },
  {
   "cell_type": "code",
   "execution_count": 4,
   "metadata": {},
   "outputs": [
    {
     "name": "stdout",
     "output_type": "stream",
     "text": [
      "El outer corrió 0 veces\n",
      "corri 0 veces\n",
      "corri 1 veces\n",
      "corri 2 veces\n",
      "corri 3 veces\n",
      "corri 4 veces\n",
      "corri 5 veces\n",
      "El outer corrió 1 veces\n",
      "corri 0 veces\n",
      "corri 1 veces\n",
      "corri 2 veces\n",
      "corri 3 veces\n",
      "corri 4 veces\n",
      "El outer corrió 2 veces\n",
      "corri 0 veces\n",
      "corri 1 veces\n",
      "corri 2 veces\n",
      "corri 3 veces\n",
      "El outer corrió 3 veces\n",
      "corri 0 veces\n",
      "corri 1 veces\n",
      "corri 2 veces\n",
      "El outer corrió 4 veces\n",
      "corri 0 veces\n",
      "corri 1 veces\n",
      "El outer corrió 5 veces\n",
      "corri 0 veces\n",
      "Sorted array: [3, 4, 7, 9, 11, 12, 25]\n"
     ]
    }
   ],
   "source": [
    "my_array = [7, 3, 9, 12, 11, 25,4] \n",
    "#se parte de un array base\n",
    "\n",
    "\n",
    "n = len(my_array)\n",
    "#cantidad de valores en el array\n",
    "for i in range(n-1): #para cada elemento de la cantidad de valores en el array -1 \n",
    "    swapped = False #variable para romper el loop en caso de que esten ordenados.\n",
    "    print(f\"El outer corrió {i} veces\")\n",
    "    for j in range(n-i-1):\n",
    "        \"\"\" \n",
    "        para cada elemento de la cantidad de valores en el array menos la cantidad de elementos \n",
    "        vistos por el outer loop -1 \n",
    "        \"\"\"\n",
    "        if my_array[j] > my_array[j+1]:\n",
    "            my_array[j], my_array[j+1] = my_array[j+1], my_array[j]\n",
    "            swapped = True\n",
    "        print(f\"corri {j} veces\")\n",
    "    if not swapped:\n",
    "        break\n",
    "\n",
    "print(\"Sorted array:\", my_array)\n",
    "\n",
    "#Tenemos un doble loop por lo que la Big O notation sería O(n**2)"
   ]
  }
 ],
 "metadata": {
  "kernelspec": {
   "display_name": "Python 3",
   "language": "python",
   "name": "python3"
  },
  "language_info": {
   "codemirror_mode": {
    "name": "ipython",
    "version": 3
   },
   "file_extension": ".py",
   "mimetype": "text/x-python",
   "name": "python",
   "nbconvert_exporter": "python",
   "pygments_lexer": "ipython3",
   "version": "3.12.3"
  }
 },
 "nbformat": 4,
 "nbformat_minor": 2
}
