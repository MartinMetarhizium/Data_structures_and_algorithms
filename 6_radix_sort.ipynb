{
 "cells": [
  {
   "cell_type": "markdown",
   "metadata": {},
   "source": [
    "Como funciona:\n",
    "\n",
    "1. Se emplieza con el valor mas a la derecha.\n",
    "2. Se ordenan los valores basado en el digito enfocado, devolviendolos al array original en el orden correcto.\n",
    "3. Se mueve al siguiente digito y se repite.\n"
   ]
  },
  {
   "cell_type": "markdown",
   "metadata": {},
   "source": [
    "Implementacion:\n",
    "\n",
    "1. Un array con numeros no negativos.\n",
    "2. Un array bidimensional con indice de 0 a 9 para guardar los valores.\n",
    "3. Un loop que toma los valores del array unsorted y los coloca en la posicion correcta del array bidimensional.\n",
    "4. Un loop que pone los valores de vuelta en el array original.\n",
    "5. Un loop externo que corre tantas veces como digitos haya en el mayor valor."
   ]
  },
  {
   "cell_type": "code",
   "execution_count": 6,
   "metadata": {},
   "outputs": [
    {
     "name": "stdout",
     "output_type": "stream",
     "text": [
      "Original array: [170, 45, 75, 90, 802, 24, 2, 66]\n",
      "Sorted array: [2, 24, 45, 66, 75, 90, 170, 802]\n"
     ]
    }
   ],
   "source": [
    "myArray = [170, 45, 75, 90, 802, 24, 2, 66]\n",
    "print(\"Original array:\", myArray)\n",
    "radixArray = [[], [], [], [], [], [], [], [], [], []]\n",
    "maxVal = max(myArray)\n",
    "exp = 1\n",
    "\n",
    "while maxVal // exp > 0:\n",
    "\n",
    "    while len(myArray) > 0:\n",
    "        \n",
    "        val = myArray.pop()\n",
    "        radixIndex = (val // exp) % 10\n",
    "        radixArray[radixIndex].append(val)\n",
    "\n",
    "    for bucket in radixArray:\n",
    "        while len(bucket) > 0:\n",
    "            \n",
    "            val = bucket.pop()\n",
    "            myArray.append(val)\n",
    "\n",
    "    exp *= 10\n",
    "\n",
    "print(\"Sorted array:\", myArray)"
   ]
  },
  {
   "cell_type": "markdown",
   "metadata": {},
   "source": [
    "Complejidad temporal O(n * k)"
   ]
  }
 ],
 "metadata": {
  "kernelspec": {
   "display_name": "Python 3",
   "language": "python",
   "name": "python3"
  },
  "language_info": {
   "codemirror_mode": {
    "name": "ipython",
    "version": 3
   },
   "file_extension": ".py",
   "mimetype": "text/x-python",
   "name": "python",
   "nbconvert_exporter": "python",
   "pygments_lexer": "ipython3",
   "version": "3.12.3"
  }
 },
 "nbformat": 4,
 "nbformat_minor": 2
}
