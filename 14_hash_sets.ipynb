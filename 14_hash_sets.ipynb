{
 "cells": [
  {
   "cell_type": "markdown",
   "metadata": {},
   "source": [
    "Los hash sets tienenuna complejidad temporal de 0(1) en caso de ser valores unicos dentro de ese indice mientras que en la peor de las situaciones tiene una complejidad de O(n)."
   ]
  },
  {
   "cell_type": "code",
   "execution_count": 2,
   "metadata": {},
   "outputs": [
    {
     "name": "stdout",
     "output_type": "stream",
     "text": [
      "Hash Set Contents:\n",
      "Bucket 0: ['Thomas', 'Jens']\n",
      "Bucket 1: []\n",
      "Bucket 2: ['Peter']\n",
      "Bucket 3: ['Lisa']\n",
      "Bucket 4: ['Charlotte']\n",
      "Bucket 5: ['Adele', 'Bob']\n",
      "Bucket 6: []\n",
      "Bucket 7: []\n",
      "Bucket 8: ['Michaela']\n",
      "Bucket 9: []\n",
      "\n",
      "'Peter' is in the set: True\n",
      "Removing 'Peter'\n",
      "'Peter' is in the set: False\n",
      "'Adele' has hash code: 5\n"
     ]
    }
   ],
   "source": [
    "class SimpleHashSet:\n",
    "    def __init__(self, size=100):\n",
    "        self.size = size\n",
    "        self.buckets = [[] for _ in range(size)]  # A list of buckets, each is a list (to handle collisions)\n",
    "\n",
    "    def hash_function(self, value):\n",
    "        # Simple hash function: sum of character codes modulo the number of buckets\n",
    "        return sum(ord(char) for char in value) % self.size\n",
    "\n",
    "    def add(self, value):\n",
    "        # Add a value if it's not already present\n",
    "        index = self.hash_function(value)\n",
    "        bucket = self.buckets[index]\n",
    "        if value not in bucket:\n",
    "            bucket.append(value)\n",
    "\n",
    "    def contains(self, value):\n",
    "        # Check if a value exists in the set\n",
    "        index = self.hash_function(value)\n",
    "        bucket = self.buckets[index]\n",
    "        return value in bucket\n",
    "\n",
    "    def remove(self, value):\n",
    "        # Remove a value\n",
    "        index = self.hash_function(value)\n",
    "        bucket = self.buckets[index]\n",
    "        if value in bucket:\n",
    "            bucket.remove(value)\n",
    "\n",
    "    def print_set(self):\n",
    "        # Print all elements in the hash set\n",
    "        print(\"Hash Set Contents:\")\n",
    "        for index, bucket in enumerate(self.buckets):\n",
    "            print(f\"Bucket {index}: {bucket}\")\n",
    "\n",
    "# Creating the Hash Set from the simulation\n",
    "hash_set = SimpleHashSet(size=10)\n",
    "\n",
    "hash_set.add(\"Charlotte\")\n",
    "hash_set.add(\"Thomas\")\n",
    "hash_set.add(\"Jens\")\n",
    "hash_set.add(\"Peter\")\n",
    "hash_set.add(\"Lisa\")\n",
    "hash_set.add(\"Adele\")\n",
    "hash_set.add(\"Michaela\")\n",
    "hash_set.add(\"Bob\")\n",
    "\n",
    "hash_set.print_set()\n",
    "\n",
    "print(\"\\n'Peter' is in the set:\",hash_set.contains('Peter'))\n",
    "print(\"Removing 'Peter'\")\n",
    "hash_set.remove('Peter')\n",
    "print(\"'Peter' is in the set:\",hash_set.contains('Peter'))\n",
    "print(\"'Adele' has hash code:\",hash_set.hash_function('Adele'))"
   ]
  }
 ],
 "metadata": {
  "kernelspec": {
   "display_name": "Python 3",
   "language": "python",
   "name": "python3"
  },
  "language_info": {
   "codemirror_mode": {
    "name": "ipython",
    "version": 3
   },
   "file_extension": ".py",
   "mimetype": "text/x-python",
   "name": "python",
   "nbconvert_exporter": "python",
   "pygments_lexer": "ipython3",
   "version": "3.12.3"
  }
 },
 "nbformat": 4,
 "nbformat_minor": 2
}
